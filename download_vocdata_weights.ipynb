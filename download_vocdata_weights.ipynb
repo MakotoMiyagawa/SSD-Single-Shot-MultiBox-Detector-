{
 "cells": [
  {
   "cell_type": "markdown",
   "id": "4b0c5b13",
   "metadata": {},
   "source": [
    "フォルダの作成"
   ]
  },
  {
   "cell_type": "code",
   "execution_count": 1,
   "id": "8f734511",
   "metadata": {},
   "outputs": [],
   "source": [
    "import os\n",
    "\n",
    "data_dir = './data/'\n",
    "if not os.path.exists(data_dir):\n",
    "    os.mkdir(data_dir)\n",
    "weights_dir = './weights/'\n",
    "if not os.path.exists(weights_dir):\n",
    "    os.mkdir(weights_dir)"
   ]
  },
  {
   "cell_type": "markdown",
   "id": "2cc50c7e",
   "metadata": {},
   "source": [
    "VOC2012のダウンロードと解凍"
   ]
  },
  {
   "cell_type": "code",
   "execution_count": 2,
   "id": "fc46531f",
   "metadata": {
    "scrolled": true
   },
   "outputs": [
    {
     "name": "stdout",
     "output_type": "stream",
     "text": [
      "CPU times: total: 0 ns\n",
      "Wall time: 2.25 ms\n"
     ]
    }
   ],
   "source": [
    "%%time\n",
    "# VOC2012データセットをサイトからダウンロード\n",
    "import urllib.request\n",
    "import tarfile\n",
    "\n",
    "url = 'http://host.robots.ox.ac.uk/pascal/VOC/voc2012/VOCtrainval_11-May-2012.tar'\n",
    "# data_dirにファイル名を連結してファイルパスを作成\n",
    "target_path = os.path.join(data_dir, 'VOCtrainval_11-May-2012.tar')\n",
    "\n",
    "if not os.path.exists(target_path):\n",
    "    # urlにアクセスしてファイルパスtarget_pathとしてダウンロード ※この実行時にエラーが出やすく回線の問題か。DLにはurlopenも良い。\n",
    "    urllib.request.urlretrieve(url, target_path)\n",
    "    # ダウンロードしたtar形式ファイルを読み込む\n",
    "    tar = tarfile.TarFile(target_path)\n",
    "    tar.extractall(data_dir)  # tarファイルを解凍\n",
    "    tar.close()               # tarファイルをクローズ"
   ]
  },
  {
   "cell_type": "markdown",
   "id": "46865604",
   "metadata": {},
   "source": [
    "VGG16の学習済み重みをダウンロード"
   ]
  },
  {
   "cell_type": "code",
   "execution_count": 3,
   "id": "81e22523",
   "metadata": {
    "scrolled": true
   },
   "outputs": [
    {
     "name": "stdout",
     "output_type": "stream",
     "text": [
      "CPU times: total: 453 ms\n",
      "Wall time: 1min 41s\n"
     ]
    }
   ],
   "source": [
    "%%time\n",
    "url = 'https://s3.amazonaws.com/amdegroot-models/vgg16_reducedfc.pth'\n",
    "# weigths_dirにファイル名を連結してファイルパスを作成\n",
    "target_path = os.path.join(weights_dir, 'vgg16_reducedfc.pth')\n",
    "\n",
    "if not os.path.exists(target_path):\n",
    "    # urlにアクセスしてファイルパスtarget_pathとしてダウンロード ※この実行時にエラーが出やすく回線の問題か。DLにはurlopenも良い。\n",
    "    urllib.request.urlretrieve(url, target_path)"
   ]
  },
  {
   "cell_type": "markdown",
   "id": "7737431e",
   "metadata": {},
   "source": [
    "SSD300の学習済み重みをダウンロード"
   ]
  },
  {
   "cell_type": "code",
   "execution_count": 5,
   "id": "5ad239b6",
   "metadata": {},
   "outputs": [
    {
     "name": "stdout",
     "output_type": "stream",
     "text": [
      "CPU times: total: 516 ms\n",
      "Wall time: 2min 8s\n"
     ]
    }
   ],
   "source": [
    "%%time\n",
    "url = 'https://s3.amazonaws.com/amdegroot-models/ssd300_mAP_77.43_v2.pth'\n",
    "# weigths_dirにファイル名を連結してファイルパスを作成\n",
    "target_path = os.path.join(weights_dir, 'ssd300_mAP_77.43_v2.pth')\n",
    "\n",
    "if not os.path.exists(target_path):\n",
    "    # urlにアクセスしてファイルパスtarget_pathとしてダウンロード ※この実行時にエラーが出やすく回線の問題か。DLにはurlopenも良い。\n",
    "    urllib.request.urlretrieve(url, target_path)"
   ]
  },
  {
   "cell_type": "code",
   "execution_count": null,
   "id": "b2b93b27",
   "metadata": {},
   "outputs": [],
   "source": []
  }
 ],
 "metadata": {
  "kernelspec": {
   "display_name": "Python 3 (ipykernel)",
   "language": "python",
   "name": "python3"
  },
  "language_info": {
   "codemirror_mode": {
    "name": "ipython",
    "version": 3
   },
   "file_extension": ".py",
   "mimetype": "text/x-python",
   "name": "python",
   "nbconvert_exporter": "python",
   "pygments_lexer": "ipython3",
   "version": "3.9.12"
  }
 },
 "nbformat": 4,
 "nbformat_minor": 5
}
