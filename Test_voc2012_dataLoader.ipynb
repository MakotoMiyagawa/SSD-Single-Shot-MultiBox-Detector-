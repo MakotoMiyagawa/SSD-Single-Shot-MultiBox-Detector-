{
 "cells": [
  {
   "cell_type": "markdown",
   "id": "b9e8c140",
   "metadata": {},
   "source": [
    "make_filepath_list()の動作確認"
   ]
  },
  {
   "cell_type": "code",
   "execution_count": 1,
   "id": "78b31f43",
   "metadata": {},
   "outputs": [
    {
     "name": "stdout",
     "output_type": "stream",
     "text": [
      "./data/VOCdevkit/VOC2012/JPEGImages\\2008_000008.jpg\n",
      "./data/VOCdevkit/VOC2012/Annotations\\2008_000008.xml\n",
      "./data/VOCdevkit/VOC2012/JPEGImages\\2008_000008.jpg\n",
      "./data/VOCdevkit/VOC2012/Annotations\\2008_000008.xml\n"
     ]
    }
   ],
   "source": [
    "from voc import make_filepath_list\n",
    "\n",
    "# 「JPEGImage」「Annotations」の親フォルダーの相対パス\n",
    "rootpath = './data/VOCdevkit/VOC2012/'\n",
    "# ファイルパスのリストを作成\n",
    "tr_img, tr_anno, \\\n",
    "    val_img, val_anno = make_filepath_list(rootpath)\n",
    "\n",
    "# 各リストの先頭要素を出力\n",
    "print(tr_img[0])\n",
    "print(tr_anno[0])\n",
    "print(tr_img[0])\n",
    "print(tr_anno[0])"
   ]
  },
  {
   "cell_type": "markdown",
   "id": "4d6227c1",
   "metadata": {},
   "source": [
    "GetBBoxAndLabelクラスの動作確認"
   ]
  },
  {
   "cell_type": "code",
   "execution_count": 2,
   "id": "51cd3bdf",
   "metadata": {},
   "outputs": [
    {
     "data": {
      "text/plain": [
       "array([[ 0.09      ,  0.03003003,  0.998     ,  0.996997  , 18.        ],\n",
       "       [ 0.122     ,  0.56756757,  0.164     ,  0.72672673, 14.        ]])"
      ]
     },
     "execution_count": 2,
     "metadata": {},
     "output_type": "execute_result"
    }
   ],
   "source": [
    "import cv2                        # openCV2のインポート\n",
    "from voc import GetBBoxAndLabel  # GetBBoxAndLabelのクラス\n",
    "\n",
    "# VOC2012の正解ラベルのリスト\n",
    "voc_labels = [\n",
    "    'aeroplane', 'bicycle', 'bird', 'boat', 'bottle', 'bus','car', \n",
    "    'cat', 'chair', 'cow', 'diningtable', 'dog', 'horse', 'motorbike',\n",
    "    'person', 'pottedplant', 'sheep', 'sofa', 'train', 'tvmonitor']\n",
    "\n",
    "# 正解ラベルを引数にしてGetBBoxAndLabelを生成\n",
    "annotation = GetBBoxAndLabel(voc_labels)\n",
    "\n",
    "# 検証データの2番目のイメージを読み込む\n",
    "index = 1\n",
    "img_path = val_img[index]\n",
    "# OpenCV2でイメージのデータ(高さのピクセル数, 幅のピクセル数, BGR(3))のndarrayを取得\n",
    "img = cv2.imread(img_path)\n",
    "# ndarrayの要素数を数えて、イメージの高さと幅のみを取得\n",
    "height, width, _ = img.shape\n",
    "\n",
    "# 2番目のイメージのアノテーションをリストにする\n",
    "annotation(val_anno[index], width, height)  # xmlのパス、イメージの幅、イメージの高さ"
   ]
  },
  {
   "cell_type": "code",
   "execution_count": null,
   "id": "837f968c",
   "metadata": {},
   "outputs": [],
   "source": []
  }
 ],
 "metadata": {
  "kernelspec": {
   "display_name": "Python 3 (ipykernel)",
   "language": "python",
   "name": "python3"
  },
  "language_info": {
   "codemirror_mode": {
    "name": "ipython",
    "version": 3
   },
   "file_extension": ".py",
   "mimetype": "text/x-python",
   "name": "python",
   "nbconvert_exporter": "python",
   "pygments_lexer": "ipython3",
   "version": "3.9.12"
  }
 },
 "nbformat": 4,
 "nbformat_minor": 5
}
